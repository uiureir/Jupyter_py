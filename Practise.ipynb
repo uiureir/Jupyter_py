{
 "cells": [
  {
   "cell_type": "code",
   "execution_count": 1,
   "metadata": {},
   "outputs": [
    {
     "name": "stdout",
     "output_type": "stream",
     "text": [
      "Let's guess the numbers! (0~100)\n",
      "Please input you guess!\n",
      "67\n",
      "Your guess is too small. Try again!\n",
      "80\n",
      "Your guess is too small. Try again!\n",
      "94\n",
      "Your guess is too big. Try again!\n",
      "86\n",
      "Congratulations! You guessed it!\n",
      "You score is 85\n",
      "Play again? [1]yes [2]no\n",
      "2\n"
     ]
    }
   ],
   "source": [
    "import random\n",
    "answer = random.randint(0, 100)\n",
    "print(\"Let\\'s guess the numbers! (0~100)\")\n",
    "guess_number = input(\"Please input you guess!\\n\")\n",
    "score = 100\n",
    "while(True):\n",
    "    if guess_number.isdigit() == False:\n",
    "        guess_number = input(\"Please input a number! Try again!\\n\")\n",
    "        score -=10\n",
    "        continue\n",
    "    else:\n",
    "        guess_number = int(guess_number)\n",
    "    if guess_number > answer:\n",
    "        score -=5\n",
    "        guess_number = input(\"Your guess is too big. Try again!\\n\")\n",
    "    elif guess_number < answer:\n",
    "        score -=5\n",
    "        guess_number = input(\"Your guess is too small. Try again!\\n\")\n",
    "    else:\n",
    "        print(\"Congratulations! You guessed it!\\n\" + \"You score is\" , score)\n",
    "        if input(\"Play again? [1]yes [2]no\\n\") == \"1\":\n",
    "            score = 100\n",
    "            guess_number = input(\"Please input you guess!\\n\")\n",
    "        else:\n",
    "            break   "
   ]
  },
  {
   "cell_type": "code",
   "execution_count": 1,
   "metadata": {},
   "outputs": [
    {
     "name": "stdout",
     "output_type": "stream",
     "text": [
      "▇▇▇▇▇▇▇▇▇▇▇▇▇▇▇▇▇▇▇▇▇▇▇▇▇▇▇▇▇▇▇▇▇▇▇▇▇▇▇▇▇▇▇▇▇▇▇▇▇▇ 100.0%"
     ]
    }
   ],
   "source": [
    "import time\n",
    "\n",
    "count_down = 5# 设置倒计时时间，单位：秒\n",
    "interval = count_down/50 # 设置屏幕刷新的间隔时间，单位：秒\n",
    "for i in range(0, int(count_down/interval)+1):\n",
    "    print(\"\\r\"+\"▇\"*i+\" \"+str(i*100/count_down*interval)+\"%\", end=\"\")\n",
    "    time.sleep(interval)"
   ]
  }
 ],
 "metadata": {
  "kernelspec": {
   "display_name": "Python 3",
   "language": "python",
   "name": "python3"
  },
  "language_info": {
   "codemirror_mode": {
    "name": "ipython",
    "version": 3
   },
   "file_extension": ".py",
   "mimetype": "text/x-python",
   "name": "python",
   "nbconvert_exporter": "python",
   "pygments_lexer": "ipython3",
   "version": "3.7.1"
  }
 },
 "nbformat": 4,
 "nbformat_minor": 4
}

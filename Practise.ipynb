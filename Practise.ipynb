{
 "cells": [
  {
   "cell_type": "code",
   "execution_count": 1,
   "metadata": {},
   "outputs": [
    {
     "name": "stdout",
     "output_type": "stream",
     "text": [
      "Let's guess the numbers! (0~100)\n",
      "Please input you guess!\n",
      "67\n",
      "Your guess is too small. Try again!\n",
      "80\n",
      "Your guess is too small. Try again!\n",
      "94\n",
      "Your guess is too big. Try again!\n",
      "86\n",
      "Congratulations! You guessed it!\n",
      "You score is 85\n",
      "Play again? [1]yes [2]no\n",
      "2\n"
     ]
    }
   ],
   "source": [
    "import random\n",
    "answer = random.randint(0, 100)\n",
    "print(\"Let\\'s guess the numbers! (0~100)\")\n",
    "guess_number = input(\"Please input you guess!\\n\")\n",
    "score = 100\n",
    "while(True):\n",
    "    if guess_number.isdigit() == False:\n",
    "        guess_number = input(\"Please input a number! Try again!\\n\")\n",
    "        score -=10\n",
    "        continue\n",
    "    else:\n",
    "        guess_number = int(guess_number)\n",
    "    if guess_number > answer:\n",
    "        score -=5\n",
    "        guess_number = input(\"Your guess is too big. Try again!\\n\")\n",
    "    elif guess_number < answer:\n",
    "        score -=5\n",
    "        guess_number = input(\"Your guess is too small. Try again!\\n\")\n",
    "    else:\n",
    "        print(\"Congratulations! You guessed it!\\n\" + \"You score is\" , score)\n",
    "        if input(\"Play again? [1]yes [2]no\\n\") == \"1\":\n",
    "            score = 100\n",
    "            guess_number = input(\"Please input you guess!\\n\")\n",
    "        else:\n",
    "            break   "
   ]
  },
  {
   "cell_type": "code",
   "execution_count": 1,
   "metadata": {},
   "outputs": [
    {
     "name": "stdout",
     "output_type": "stream",
     "text": [
      "▇▇▇▇▇▇▇▇▇▇▇▇▇▇▇▇▇▇▇▇▇▇▇▇▇▇▇▇▇▇▇▇▇▇▇▇▇▇▇▇▇▇▇▇▇▇▇▇▇▇ 100.0%"
     ]
    }
   ],
   "source": [
    "import time\n",
    "\n",
    "count_down = 5# 设置倒计时时间，单位：秒\n",
    "interval = count_down/50 # 设置屏幕刷新的间隔时间，单位：秒\n",
    "for i in range(0, int(count_down/interval)+1):\n",
    "    print(\"\\r\"+\"▇\"*i+\" \"+str(i*100/count_down*interval)+\"%\", end=\"\")\n",
    "    time.sleep(interval)"
   ]
  },
  {
   "cell_type": "code",
   "execution_count": 2,
   "metadata": {},
   "outputs": [
    {
     "ename": "IndentationError",
     "evalue": "unindent does not match any outer indentation level (<tokenize>, line 93)",
     "output_type": "error",
     "traceback": [
      "\u001b[0;36m  File \u001b[0;32m\"<tokenize>\"\u001b[0;36m, line \u001b[0;32m93\u001b[0m\n\u001b[0;31m    multi_part_upload('pythonuiu')\u001b[0m\n\u001b[0m    ^\u001b[0m\n\u001b[0;31mIndentationError\u001b[0m\u001b[0;31m:\u001b[0m unindent does not match any outer indentation level\n"
     ]
    }
   ],
   "source": [
    "import os\n",
    "import json\n",
    "import ibm_boto3\n",
    "from ibm_botocore.client import Config, ClientError\n",
    "\n",
    "# Constants for IBM COS values\n",
    "COS_ENDPOINT = 'https://s3.hkg02.cloud-object-storage.appdomain.cloud' \n",
    "COS_API_KEY_ID = \"\"\n",
    "COS_AUTH_ENDPOINT = \"https://iam.cloud.ibm.com/identity/token\"\n",
    "COS_RESOURCE_CRN = \"\"\n",
    "\n",
    "cos = ibm_boto3.resource(\"s3\",\n",
    "    ibm_api_key_id=COS_API_KEY_ID,\n",
    "    ibm_service_instance_id=COS_RESOURCE_CRN,\n",
    "    ibm_auth_endpoint=COS_AUTH_ENDPOINT,\n",
    "    config=Config(signature_version=\"oauth\"),\n",
    "    endpoint_url=COS_ENDPOINT\n",
    ")\n",
    "\n",
    "def get_buckets():\n",
    "    print(\"Retrieving list of buckets\")\n",
    "    try:\n",
    "        buckets = cos.buckets.all()\n",
    "        for bucket in buckets:\n",
    "            return \"Bucket Name: {0}\".format(bucket.name)\n",
    "    except ClientError as be:\n",
    "        return \"CLIENT ERROR: {0}\\n\".format(be), 'Error'\n",
    "    except Exception as e:\n",
    "        return \"Unable to retrieve list buckets: {0}\".format(e), 'Error'\n",
    "\n",
    "def get_item(bucket_name,item_name):\n",
    "    print(\"Retrieving item from bucket: {0}, key: {1}\".format(bucket_name, item_name))\n",
    "    try:\n",
    "        file = cos.Object(bucket_name, item_name).get()\n",
    "        return file[\"Body\"].read()\n",
    "    except ClientError as be:\n",
    "        return \"CLIENT ERROR: {0}\\n\".format(be), 'Error'\n",
    "    except Exception as e:\n",
    "        return \"Unable to retrieve file contents: {0}\".format(e), 'Error'\n",
    "        \n",
    "def get_bucket_contents(bucket_name):\n",
    "    print(\"Retrieving bucket contents from: {0}\".format(bucket_name))\n",
    "    try:\n",
    "        files = cos.Bucket(bucket_name).objects.all()\n",
    "        dict={}\n",
    "        for file in files:\n",
    "        \tdict[file.key]=\"{} bytes\".format(file.size)\n",
    "        return dict\n",
    "    except ClientError as be:\n",
    "        return \"CLIENT ERROR: {0}\\n\".format(be), 'Error'\n",
    "    except Exception as e:\n",
    "        return \"Unable to retrieve bucket contents: {0}\".format(e), 'Error'\n",
    "\n",
    "def multi_part_upload(bucket_name, item_name, file_path):\n",
    "    try:\n",
    "        print(\"Starting file transfer for {0} to bucket: {1}\\n\".format(item_name, bucket_name))\n",
    "        # set 2.5 MB chunks\n",
    "        part_size = 1024 * 1024 * 2.5\n",
    "\n",
    "        # set threadhold to 10 MB\n",
    "        file_threshold = 1024 * 1024 * 10\n",
    "\n",
    "        # set the transfer threshold and chunk size\n",
    "        transfer_config = ibm_boto3.s3.transfer.TransferConfig(\n",
    "            multipart_threshold=file_threshold,\n",
    "            multipart_chunksize=part_size\n",
    "        )\n",
    "\n",
    "        # the upload_fileobj method will automatically execute a multi-part upload\n",
    "        # in 2.5 MB chunks for all files over 10 MB\n",
    "        with open(file_path, \"rb\") as file_data:\n",
    "            cos.Object(bucket_name, item_name).upload_fileobj(\n",
    "                Fileobj=file_data,\n",
    "                Config=transfer_config\n",
    "            )\n",
    "\n",
    "        print(\"Transfer for {0} Complete!\\n\".format(item_name))\n",
    "    except ClientError as be:\n",
    "        print(\"CLIENT ERROR: {0}\\n\".format(be))\n",
    "    except Exception as e:\n",
    "        print(\"Unable to complete multi-part upload: {0}\".format(e))\n",
    "\n",
    "def download(bucket_name,item_name):\n",
    "\tfile = get_item(bucket_name,item_name)\n",
    "\tif file[1] != 'Error':\n",
    "\t\twith open(os.getcwd()+'//'+item_name, 'wb+') as f:\n",
    "\t\t\tf.write(file)\n",
    "\t\tdate = json.loads(file)\n",
    "\t\treturn date\n",
    "\n",
    "if __name__ == '__main__':\n",
    "\tdownload('pythonuiu','cos-python-sdk-packages.tar.gz')\n",
    "\tmulti_part_upload('pythonuiu')\n",
    "\tprint(get_bucket_contents('pythonuiu'))"
   ]
  }
 ],
 "metadata": {
  "kernelspec": {
   "display_name": "Python 3",
   "language": "python",
   "name": "python3"
  },
  "language_info": {
   "codemirror_mode": {
    "name": "ipython",
    "version": 3
   },
   "file_extension": ".py",
   "mimetype": "text/x-python",
   "name": "python",
   "nbconvert_exporter": "python",
   "pygments_lexer": "ipython3",
   "version": "3.7.1"
  }
 },
 "nbformat": 4,
 "nbformat_minor": 4
}
